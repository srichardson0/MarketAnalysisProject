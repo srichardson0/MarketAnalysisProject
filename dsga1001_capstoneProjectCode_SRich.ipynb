{
  "nbformat": 4,
  "nbformat_minor": 0,
  "metadata": {
    "colab": {
      "name": "dsga1001_capstoneProjectCode_SRich.ipynb",
      "provenance": [],
      "collapsed_sections": [],
      "authorship_tag": "ABX9TyOwrS99jWC4M7pe+BAs8CPU",
      "include_colab_link": true
    },
    "kernelspec": {
      "name": "python3",
      "display_name": "Python 3"
    },
    "language_info": {
      "name": "python"
    }
  },
  "cells": [
    {
      "cell_type": "markdown",
      "metadata": {
        "id": "view-in-github",
        "colab_type": "text"
      },
      "source": [
        "<a href=\"https://colab.research.google.com/github/srichardson0/MarketAnalysisProject/blob/main/dsga1001_capstoneProjectCode_SRich.ipynb\" target=\"_parent\"><img src=\"https://colab.research.google.com/assets/colab-badge.svg\" alt=\"Open In Colab\"/></a>"
      ]
    },
    {
      "cell_type": "markdown",
      "source": [
        "## DS-GA 1001 Capstone Project Code\n",
        "\n",
        "\n",
        "---\n",
        "### Fall 2021\n",
        "### Sasha Richardson\n",
        "### NetID: sfr9746"
      ],
      "metadata": {
        "id": "EyxQpdsUuY2S"
      }
    },
    {
      "cell_type": "code",
      "execution_count": null,
      "metadata": {
        "id": "31_wXedmwgU4"
      },
      "outputs": [],
      "source": [
        "import pandas as pd\n",
        "import matplotlib.pyplot as plt\n",
        "% matplotlib inline\n",
        "import seaborn as sn\n",
        "import numpy as np\n",
        "from sklearn.model_selection import train_test_split\n",
        "from sklearn.ensemble import RandomForestRegressor\n",
        "from sklearn import metrics\n",
        "from scipy.stats import pearsonr\n",
        "from scipy.stats import ttest_ind \n"
      ]
    },
    {
      "cell_type": "code",
      "source": [
        "data = pd.read_csv(\"./marketing_data.csv\")"
      ],
      "metadata": {
        "id": "hF75xHl1wiWH"
      },
      "execution_count": null,
      "outputs": []
    },
    {
      "cell_type": "markdown",
      "source": [
        "### Clean Data"
      ],
      "metadata": {
        "id": "AOGKASdu494R"
      }
    },
    {
      "cell_type": "code",
      "source": [
        "# Identify NaN values in data\n",
        "data.isnull().sum()"
      ],
      "metadata": {
        "colab": {
          "base_uri": "https://localhost:8080/"
        },
        "id": "kxkhxr6QxZrN",
        "outputId": "406c20d6-c2b0-4037-d4ff-fd78b886323e"
      },
      "execution_count": null,
      "outputs": [
        {
          "output_type": "execute_result",
          "data": {
            "text/plain": [
              "ID                      0\n",
              "Year_Birth              0\n",
              "Education               0\n",
              "Marital_Status          0\n",
              " Income                24\n",
              "Kidhome                 0\n",
              "Teenhome                0\n",
              "Dt_Customer             0\n",
              "Recency                 0\n",
              "MntWines                0\n",
              "MntFruits               0\n",
              "MntMeatProducts         0\n",
              "MntFishProducts         0\n",
              "MntSweetProducts        0\n",
              "MntGoldProds            0\n",
              "NumDealsPurchases       0\n",
              "NumWebPurchases         0\n",
              "NumCatalogPurchases     0\n",
              "NumStorePurchases       0\n",
              "NumWebVisitsMonth       0\n",
              "AcceptedCmp3            0\n",
              "AcceptedCmp4            0\n",
              "AcceptedCmp5            0\n",
              "AcceptedCmp1            0\n",
              "AcceptedCmp2            0\n",
              "Response                0\n",
              "Complain                0\n",
              "Country                 0\n",
              "dtype: int64"
            ]
          },
          "metadata": {},
          "execution_count": 49
        }
      ]
    },
    {
      "cell_type": "code",
      "source": [
        "# Convert 'Income' column from string to float\n",
        "data[' Income '] = data[' Income '].str[1:]       # remove dollar sign\n",
        "data[' Income '] = data[' Income '].replace(',','', regex=True)\n",
        "data[' Income '] = pd.to_numeric(data[' Income '],errors='coerce')"
      ],
      "metadata": {
        "id": "uwx3pViSzwY7"
      },
      "execution_count": null,
      "outputs": []
    },
    {
      "cell_type": "code",
      "source": [
        "#Finding the mean of the column having NaN\n",
        "mean_value = data[' Income '].mean()\n",
        "# Replace NaNs in column 'Income' with the\n",
        "# mean of values in the same column\n",
        "data[' Income '].fillna(value=mean_value, inplace=True)"
      ],
      "metadata": {
        "id": "2I9H5okcxfYK"
      },
      "execution_count": null,
      "outputs": []
    },
    {
      "cell_type": "code",
      "source": [
        "# Convert 'Dt_Customer' from str to datetime\n",
        "data['Dt_Customer'] = pd.to_datetime(data['Dt_Customer'])"
      ],
      "metadata": {
        "id": "7mDPc2Gr_Onu"
      },
      "execution_count": null,
      "outputs": []
    },
    {
      "cell_type": "code",
      "source": [
        "data.head()"
      ],
      "metadata": {
        "colab": {
          "base_uri": "https://localhost:8080/",
          "height": 270
        },
        "id": "VTLLPmHCxW7X",
        "outputId": "b813ced2-758a-4fca-e849-ce7dcf316de9"
      },
      "execution_count": null,
      "outputs": [
        {
          "output_type": "execute_result",
          "data": {
            "text/html": [
              "\n",
              "  <div id=\"df-9b9b51de-3524-4542-8e85-db439cae3b94\">\n",
              "    <div class=\"colab-df-container\">\n",
              "      <div>\n",
              "<style scoped>\n",
              "    .dataframe tbody tr th:only-of-type {\n",
              "        vertical-align: middle;\n",
              "    }\n",
              "\n",
              "    .dataframe tbody tr th {\n",
              "        vertical-align: top;\n",
              "    }\n",
              "\n",
              "    .dataframe thead th {\n",
              "        text-align: right;\n",
              "    }\n",
              "</style>\n",
              "<table border=\"1\" class=\"dataframe\">\n",
              "  <thead>\n",
              "    <tr style=\"text-align: right;\">\n",
              "      <th></th>\n",
              "      <th>ID</th>\n",
              "      <th>Year_Birth</th>\n",
              "      <th>Education</th>\n",
              "      <th>Marital_Status</th>\n",
              "      <th>Income</th>\n",
              "      <th>Kidhome</th>\n",
              "      <th>Teenhome</th>\n",
              "      <th>Dt_Customer</th>\n",
              "      <th>Recency</th>\n",
              "      <th>MntWines</th>\n",
              "      <th>MntFruits</th>\n",
              "      <th>MntMeatProducts</th>\n",
              "      <th>MntFishProducts</th>\n",
              "      <th>MntSweetProducts</th>\n",
              "      <th>MntGoldProds</th>\n",
              "      <th>NumDealsPurchases</th>\n",
              "      <th>NumWebPurchases</th>\n",
              "      <th>NumCatalogPurchases</th>\n",
              "      <th>NumStorePurchases</th>\n",
              "      <th>NumWebVisitsMonth</th>\n",
              "      <th>AcceptedCmp3</th>\n",
              "      <th>AcceptedCmp4</th>\n",
              "      <th>AcceptedCmp5</th>\n",
              "      <th>AcceptedCmp1</th>\n",
              "      <th>AcceptedCmp2</th>\n",
              "      <th>Response</th>\n",
              "      <th>Complain</th>\n",
              "      <th>Country</th>\n",
              "    </tr>\n",
              "  </thead>\n",
              "  <tbody>\n",
              "    <tr>\n",
              "      <th>0</th>\n",
              "      <td>1826</td>\n",
              "      <td>1970</td>\n",
              "      <td>Graduation</td>\n",
              "      <td>Divorced</td>\n",
              "      <td>84835.0</td>\n",
              "      <td>0</td>\n",
              "      <td>0</td>\n",
              "      <td>2014-06-16</td>\n",
              "      <td>0</td>\n",
              "      <td>189</td>\n",
              "      <td>104</td>\n",
              "      <td>379</td>\n",
              "      <td>111</td>\n",
              "      <td>189</td>\n",
              "      <td>218</td>\n",
              "      <td>1</td>\n",
              "      <td>4</td>\n",
              "      <td>4</td>\n",
              "      <td>6</td>\n",
              "      <td>1</td>\n",
              "      <td>0</td>\n",
              "      <td>0</td>\n",
              "      <td>0</td>\n",
              "      <td>0</td>\n",
              "      <td>0</td>\n",
              "      <td>1</td>\n",
              "      <td>0</td>\n",
              "      <td>SP</td>\n",
              "    </tr>\n",
              "    <tr>\n",
              "      <th>1</th>\n",
              "      <td>1</td>\n",
              "      <td>1961</td>\n",
              "      <td>Graduation</td>\n",
              "      <td>Single</td>\n",
              "      <td>57091.0</td>\n",
              "      <td>0</td>\n",
              "      <td>0</td>\n",
              "      <td>2014-06-15</td>\n",
              "      <td>0</td>\n",
              "      <td>464</td>\n",
              "      <td>5</td>\n",
              "      <td>64</td>\n",
              "      <td>7</td>\n",
              "      <td>0</td>\n",
              "      <td>37</td>\n",
              "      <td>1</td>\n",
              "      <td>7</td>\n",
              "      <td>3</td>\n",
              "      <td>7</td>\n",
              "      <td>5</td>\n",
              "      <td>0</td>\n",
              "      <td>0</td>\n",
              "      <td>0</td>\n",
              "      <td>0</td>\n",
              "      <td>1</td>\n",
              "      <td>1</td>\n",
              "      <td>0</td>\n",
              "      <td>CA</td>\n",
              "    </tr>\n",
              "    <tr>\n",
              "      <th>2</th>\n",
              "      <td>10476</td>\n",
              "      <td>1958</td>\n",
              "      <td>Graduation</td>\n",
              "      <td>Married</td>\n",
              "      <td>67267.0</td>\n",
              "      <td>0</td>\n",
              "      <td>1</td>\n",
              "      <td>2014-05-13</td>\n",
              "      <td>0</td>\n",
              "      <td>134</td>\n",
              "      <td>11</td>\n",
              "      <td>59</td>\n",
              "      <td>15</td>\n",
              "      <td>2</td>\n",
              "      <td>30</td>\n",
              "      <td>1</td>\n",
              "      <td>3</td>\n",
              "      <td>2</td>\n",
              "      <td>5</td>\n",
              "      <td>2</td>\n",
              "      <td>0</td>\n",
              "      <td>0</td>\n",
              "      <td>0</td>\n",
              "      <td>0</td>\n",
              "      <td>0</td>\n",
              "      <td>0</td>\n",
              "      <td>0</td>\n",
              "      <td>US</td>\n",
              "    </tr>\n",
              "    <tr>\n",
              "      <th>3</th>\n",
              "      <td>1386</td>\n",
              "      <td>1967</td>\n",
              "      <td>Graduation</td>\n",
              "      <td>Together</td>\n",
              "      <td>32474.0</td>\n",
              "      <td>1</td>\n",
              "      <td>1</td>\n",
              "      <td>2014-05-11</td>\n",
              "      <td>0</td>\n",
              "      <td>10</td>\n",
              "      <td>0</td>\n",
              "      <td>1</td>\n",
              "      <td>0</td>\n",
              "      <td>0</td>\n",
              "      <td>0</td>\n",
              "      <td>1</td>\n",
              "      <td>1</td>\n",
              "      <td>0</td>\n",
              "      <td>2</td>\n",
              "      <td>7</td>\n",
              "      <td>0</td>\n",
              "      <td>0</td>\n",
              "      <td>0</td>\n",
              "      <td>0</td>\n",
              "      <td>0</td>\n",
              "      <td>0</td>\n",
              "      <td>0</td>\n",
              "      <td>AUS</td>\n",
              "    </tr>\n",
              "    <tr>\n",
              "      <th>4</th>\n",
              "      <td>5371</td>\n",
              "      <td>1989</td>\n",
              "      <td>Graduation</td>\n",
              "      <td>Single</td>\n",
              "      <td>21474.0</td>\n",
              "      <td>1</td>\n",
              "      <td>0</td>\n",
              "      <td>2014-04-08</td>\n",
              "      <td>0</td>\n",
              "      <td>6</td>\n",
              "      <td>16</td>\n",
              "      <td>24</td>\n",
              "      <td>11</td>\n",
              "      <td>0</td>\n",
              "      <td>34</td>\n",
              "      <td>2</td>\n",
              "      <td>3</td>\n",
              "      <td>1</td>\n",
              "      <td>2</td>\n",
              "      <td>7</td>\n",
              "      <td>1</td>\n",
              "      <td>0</td>\n",
              "      <td>0</td>\n",
              "      <td>0</td>\n",
              "      <td>0</td>\n",
              "      <td>1</td>\n",
              "      <td>0</td>\n",
              "      <td>SP</td>\n",
              "    </tr>\n",
              "  </tbody>\n",
              "</table>\n",
              "</div>\n",
              "      <button class=\"colab-df-convert\" onclick=\"convertToInteractive('df-9b9b51de-3524-4542-8e85-db439cae3b94')\"\n",
              "              title=\"Convert this dataframe to an interactive table.\"\n",
              "              style=\"display:none;\">\n",
              "        \n",
              "  <svg xmlns=\"http://www.w3.org/2000/svg\" height=\"24px\"viewBox=\"0 0 24 24\"\n",
              "       width=\"24px\">\n",
              "    <path d=\"M0 0h24v24H0V0z\" fill=\"none\"/>\n",
              "    <path d=\"M18.56 5.44l.94 2.06.94-2.06 2.06-.94-2.06-.94-.94-2.06-.94 2.06-2.06.94zm-11 1L8.5 8.5l.94-2.06 2.06-.94-2.06-.94L8.5 2.5l-.94 2.06-2.06.94zm10 10l.94 2.06.94-2.06 2.06-.94-2.06-.94-.94-2.06-.94 2.06-2.06.94z\"/><path d=\"M17.41 7.96l-1.37-1.37c-.4-.4-.92-.59-1.43-.59-.52 0-1.04.2-1.43.59L10.3 9.45l-7.72 7.72c-.78.78-.78 2.05 0 2.83L4 21.41c.39.39.9.59 1.41.59.51 0 1.02-.2 1.41-.59l7.78-7.78 2.81-2.81c.8-.78.8-2.07 0-2.86zM5.41 20L4 18.59l7.72-7.72 1.47 1.35L5.41 20z\"/>\n",
              "  </svg>\n",
              "      </button>\n",
              "      \n",
              "  <style>\n",
              "    .colab-df-container {\n",
              "      display:flex;\n",
              "      flex-wrap:wrap;\n",
              "      gap: 12px;\n",
              "    }\n",
              "\n",
              "    .colab-df-convert {\n",
              "      background-color: #E8F0FE;\n",
              "      border: none;\n",
              "      border-radius: 50%;\n",
              "      cursor: pointer;\n",
              "      display: none;\n",
              "      fill: #1967D2;\n",
              "      height: 32px;\n",
              "      padding: 0 0 0 0;\n",
              "      width: 32px;\n",
              "    }\n",
              "\n",
              "    .colab-df-convert:hover {\n",
              "      background-color: #E2EBFA;\n",
              "      box-shadow: 0px 1px 2px rgba(60, 64, 67, 0.3), 0px 1px 3px 1px rgba(60, 64, 67, 0.15);\n",
              "      fill: #174EA6;\n",
              "    }\n",
              "\n",
              "    [theme=dark] .colab-df-convert {\n",
              "      background-color: #3B4455;\n",
              "      fill: #D2E3FC;\n",
              "    }\n",
              "\n",
              "    [theme=dark] .colab-df-convert:hover {\n",
              "      background-color: #434B5C;\n",
              "      box-shadow: 0px 1px 3px 1px rgba(0, 0, 0, 0.15);\n",
              "      filter: drop-shadow(0px 1px 2px rgba(0, 0, 0, 0.3));\n",
              "      fill: #FFFFFF;\n",
              "    }\n",
              "  </style>\n",
              "\n",
              "      <script>\n",
              "        const buttonEl =\n",
              "          document.querySelector('#df-9b9b51de-3524-4542-8e85-db439cae3b94 button.colab-df-convert');\n",
              "        buttonEl.style.display =\n",
              "          google.colab.kernel.accessAllowed ? 'block' : 'none';\n",
              "\n",
              "        async function convertToInteractive(key) {\n",
              "          const element = document.querySelector('#df-9b9b51de-3524-4542-8e85-db439cae3b94');\n",
              "          const dataTable =\n",
              "            await google.colab.kernel.invokeFunction('convertToInteractive',\n",
              "                                                     [key], {});\n",
              "          if (!dataTable) return;\n",
              "\n",
              "          const docLinkHtml = 'Like what you see? Visit the ' +\n",
              "            '<a target=\"_blank\" href=https://colab.research.google.com/notebooks/data_table.ipynb>data table notebook</a>'\n",
              "            + ' to learn more about interactive tables.';\n",
              "          element.innerHTML = '';\n",
              "          dataTable['output_type'] = 'display_data';\n",
              "          await google.colab.output.renderOutput(dataTable, element);\n",
              "          const docLink = document.createElement('div');\n",
              "          docLink.innerHTML = docLinkHtml;\n",
              "          element.appendChild(docLink);\n",
              "        }\n",
              "      </script>\n",
              "    </div>\n",
              "  </div>\n",
              "  "
            ],
            "text/plain": [
              "      ID  Year_Birth   Education  ... Response  Complain  Country\n",
              "0   1826        1970  Graduation  ...        1         0       SP\n",
              "1      1        1961  Graduation  ...        1         0       CA\n",
              "2  10476        1958  Graduation  ...        0         0       US\n",
              "3   1386        1967  Graduation  ...        0         0      AUS\n",
              "4   5371        1989  Graduation  ...        1         0       SP\n",
              "\n",
              "[5 rows x 28 columns]"
            ]
          },
          "metadata": {},
          "execution_count": 53
        }
      ]
    },
    {
      "cell_type": "markdown",
      "source": [
        "### Are there any useful variables that can be engineered with the given data?"
      ],
      "metadata": {
        "id": "VQb_RG_38fXF"
      }
    },
    {
      "cell_type": "code",
      "source": [
        "# Creating new features for statistical analysis\n",
        "\n",
        "data['yr_join'] = data['Dt_Customer'].dt.year\n",
        "data['mth_join'] = data['Dt_Customer'].dt.month\n",
        "data['num_minors'] = data['Kidhome'] + data['Teenhome']\n",
        "data['amnt_spent_total'] = data['MntWines'] + data['MntSweetProducts'] + data['MntMeatProducts'] + data['MntGoldProds'] + data['MntFruits'] + data['MntFishProducts']\n",
        "data['total_num_purchases'] = data['NumWebPurchases'] + data['NumStorePurchases'] + data['NumDealsPurchases'] + data['NumCatalogPurchases']\n",
        "data['accept_campaign_total'] = data['AcceptedCmp5'] + data['AcceptedCmp4'] + data['AcceptedCmp3'] + data['AcceptedCmp2'] + data['AcceptedCmp1']\n",
        "data['average_order_volume'] = data['amnt_spent_total'] / data['total_num_purchases']"
      ],
      "metadata": {
        "id": "oXXoDga74QXv"
      },
      "execution_count": null,
      "outputs": []
    },
    {
      "cell_type": "markdown",
      "source": [
        "### Are there any patterns or anomalies in the data which can be visualized?"
      ],
      "metadata": {
        "id": "k_uMFIBauN6a"
      }
    },
    {
      "cell_type": "code",
      "source": [
        "np.triu(np.ones_like(data.corr()))\n",
        "plt.figure(figsize=(10, 8))\n",
        "mask = np.triu(np.ones_like(data.corr(), dtype=np.bool))\n",
        "heatmap = sn.heatmap(data.corr(), mask=mask, vmin=-1, vmax=1, cmap='BrBG')\n",
        "heatmap.set_title('Triangle Correlation Heatmap', fontdict={'fontsize':20}, pad=16);"
      ],
      "metadata": {
        "colab": {
          "base_uri": "https://localhost:8080/",
          "height": 597
        },
        "id": "TfThcOybB_cS",
        "outputId": "48859f2e-2a43-4cc5-8a82-dca598816ce3"
      },
      "execution_count": null,
      "outputs": [
        {
          "output_type": "display_data",
          "data": {
            "image/png": "[encoded data removed]",
            "text/plain": [
              "<Figure size 720x576 with 2 Axes>"
            ]
          },
          "metadata": {
            "needs_background": "light"
          }
        }
      ]
    },
    {
      "cell_type": "code",
      "source": [
        "def correlation(data,num_corr):\n",
        "  corr = data.corr()\n",
        "  np.fill_diagonal(corr.values, np.nan)\n",
        "\n",
        "  order_top = np.argsort(-corr.values, axis=1)[:, :num_corr]\n",
        "\n",
        "  col_lst = []\n",
        "  for i in range(num_corr):\n",
        "    col_lst.append(str(i+1))\n",
        "\n",
        "  result_top = pd.DataFrame(\n",
        "      corr.columns[order_top], \n",
        "      columns=col_lst,\n",
        "      index=corr.index\n",
        "  )\n",
        "\n",
        "  result = result_top\n",
        "\n",
        "  for x in result.columns:\n",
        "      result[x+\"_Val\"] = corr.lookup(corr.index, result[x])\n",
        "\n",
        "  return result\n",
        "\n",
        "\n",
        "correlation(data,5)"
      ],
      "metadata": {
        "colab": {
          "base_uri": "https://localhost:8080/",
          "height": 1000
        },
        "id": "8a1GAEOBDtUd",
        "outputId": "344b40bf-664b-49d5-b589-cf5f86a28c11"
      },
      "execution_count": null,
      "outputs": [
        {
          "output_type": "stream",
          "name": "stderr",
          "text": [
            "/usr/local/lib/python3.7/dist-packages/ipykernel_launcher.py:12: FutureWarning: Support for multi-dimensional indexing (e.g. `obj[:, None]`) is deprecated and will be removed in a future version.  Convert to a numpy array before indexing instead.\n",
            "  if sys.path[0] == '':\n"
          ]
        },
        {
          "output_type": "execute_result",
          "data": {
            "text/html": [
              "\n",
              "  <div id=\"df-4350c8b6-6017-418b-9929-6c724b0bda23\">\n",
              "    <div class=\"colab-df-container\">\n",
              "      <div>\n",
              "<style scoped>\n",
              "    .dataframe tbody tr th:only-of-type {\n",
              "        vertical-align: middle;\n",
              "    }\n",
              "\n",
              "    .dataframe tbody tr th {\n",
              "        vertical-align: top;\n",
              "    }\n",
              "\n",
              "    .dataframe thead th {\n",
              "        text-align: right;\n",
              "    }\n",
              "</style>\n",
              "<table border=\"1\" class=\"dataframe\">\n",
              "  <thead>\n",
              "    <tr style=\"text-align: right;\">\n",
              "      <th></th>\n",
              "      <th>1</th>\n",
              "      <th>2</th>\n",
              "      <th>3</th>\n",
              "      <th>4</th>\n",
              "      <th>5</th>\n",
              "      <th>1_Val</th>\n",
              "      <th>2_Val</th>\n",
              "      <th>3_Val</th>\n",
              "      <th>4_Val</th>\n",
              "      <th>5_Val</th>\n",
              "    </tr>\n",
              "  </thead>\n",
              "  <tbody>\n",
              "    <tr>\n",
              "      <th>ID</th>\n",
              "      <td>Complain</td>\n",
              "      <td>mth_join</td>\n",
              "      <td>Income</td>\n",
              "      <td>MntFruits</td>\n",
              "      <td>average_order_volume</td>\n",
              "      <td>0.033883</td>\n",
              "      <td>0.018072</td>\n",
              "      <td>0.013036</td>\n",
              "      <td>0.004600</td>\n",
              "      <td>0.002901</td>\n",
              "    </tr>\n",
              "    <tr>\n",
              "      <th>Year_Birth</th>\n",
              "      <td>Kidhome</td>\n",
              "      <td>NumWebVisitsMonth</td>\n",
              "      <td>AcceptedCmp3</td>\n",
              "      <td>mth_join</td>\n",
              "      <td>Response</td>\n",
              "      <td>0.230176</td>\n",
              "      <td>0.121139</td>\n",
              "      <td>0.061774</td>\n",
              "      <td>0.024246</td>\n",
              "      <td>0.021325</td>\n",
              "    </tr>\n",
              "    <tr>\n",
              "      <th>Income</th>\n",
              "      <td>amnt_spent_total</td>\n",
              "      <td>NumCatalogPurchases</td>\n",
              "      <td>MntMeatProducts</td>\n",
              "      <td>MntWines</td>\n",
              "      <td>total_num_purchases</td>\n",
              "      <td>0.664706</td>\n",
              "      <td>0.586725</td>\n",
              "      <td>0.577802</td>\n",
              "      <td>0.576789</td>\n",
              "      <td>0.563370</td>\n",
              "    </tr>\n",
              "    <tr>\n",
              "      <th>Kidhome</th>\n",
              "      <td>num_minors</td>\n",
              "      <td>NumWebVisitsMonth</td>\n",
              "      <td>Year_Birth</td>\n",
              "      <td>NumDealsPurchases</td>\n",
              "      <td>yr_join</td>\n",
              "      <td>0.689971</td>\n",
              "      <td>0.447846</td>\n",
              "      <td>0.230176</td>\n",
              "      <td>0.221798</td>\n",
              "      <td>0.053339</td>\n",
              "    </tr>\n",
              "    <tr>\n",
              "      <th>Teenhome</th>\n",
              "      <td>num_minors</td>\n",
              "      <td>NumDealsPurchases</td>\n",
              "      <td>NumWebPurchases</td>\n",
              "      <td>NumWebVisitsMonth</td>\n",
              "      <td>total_num_purchases</td>\n",
              "      <td>0.698433</td>\n",
              "      <td>0.387741</td>\n",
              "      <td>0.155500</td>\n",
              "      <td>0.134884</td>\n",
              "      <td>0.133163</td>\n",
              "    </tr>\n",
              "    <tr>\n",
              "      <th>Recency</th>\n",
              "      <td>NumCatalogPurchases</td>\n",
              "      <td>MntMeatProducts</td>\n",
              "      <td>MntSweetProducts</td>\n",
              "      <td>amnt_spent_total</td>\n",
              "      <td>AcceptedCmp4</td>\n",
              "      <td>0.025110</td>\n",
              "      <td>0.023056</td>\n",
              "      <td>0.022670</td>\n",
              "      <td>0.020433</td>\n",
              "      <td>0.018826</td>\n",
              "    </tr>\n",
              "    <tr>\n",
              "      <th>MntWines</th>\n",
              "      <td>amnt_spent_total</td>\n",
              "      <td>total_num_purchases</td>\n",
              "      <td>NumStorePurchases</td>\n",
              "      <td>NumCatalogPurchases</td>\n",
              "      <td>Income</td>\n",
              "      <td>0.891839</td>\n",
              "      <td>0.712789</td>\n",
              "      <td>0.642100</td>\n",
              "      <td>0.635226</td>\n",
              "      <td>0.576789</td>\n",
              "    </tr>\n",
              "    <tr>\n",
              "      <th>MntFruits</th>\n",
              "      <td>amnt_spent_total</td>\n",
              "      <td>MntFishProducts</td>\n",
              "      <td>MntSweetProducts</td>\n",
              "      <td>MntMeatProducts</td>\n",
              "      <td>NumCatalogPurchases</td>\n",
              "      <td>0.614229</td>\n",
              "      <td>0.594804</td>\n",
              "      <td>0.567164</td>\n",
              "      <td>0.543105</td>\n",
              "      <td>0.487917</td>\n",
              "    </tr>\n",
              "    <tr>\n",
              "      <th>MntMeatProducts</th>\n",
              "      <td>amnt_spent_total</td>\n",
              "      <td>NumCatalogPurchases</td>\n",
              "      <td>average_order_volume</td>\n",
              "      <td>Income</td>\n",
              "      <td>MntFishProducts</td>\n",
              "      <td>0.842965</td>\n",
              "      <td>0.723827</td>\n",
              "      <td>0.607036</td>\n",
              "      <td>0.577802</td>\n",
              "      <td>0.568402</td>\n",
              "    </tr>\n",
              "    <tr>\n",
              "      <th>MntFishProducts</th>\n",
              "      <td>amnt_spent_total</td>\n",
              "      <td>MntFruits</td>\n",
              "      <td>MntSweetProducts</td>\n",
              "      <td>MntMeatProducts</td>\n",
              "      <td>NumCatalogPurchases</td>\n",
              "      <td>0.642818</td>\n",
              "      <td>0.594804</td>\n",
              "      <td>0.579870</td>\n",
              "      <td>0.568402</td>\n",
              "      <td>0.534478</td>\n",
              "    </tr>\n",
              "    <tr>\n",
              "      <th>MntSweetProducts</th>\n",
              "      <td>amnt_spent_total</td>\n",
              "      <td>MntFishProducts</td>\n",
              "      <td>MntFruits</td>\n",
              "      <td>MntMeatProducts</td>\n",
              "      <td>NumCatalogPurchases</td>\n",
              "      <td>0.603016</td>\n",
              "      <td>0.579870</td>\n",
              "      <td>0.567164</td>\n",
              "      <td>0.523846</td>\n",
              "      <td>0.490924</td>\n",
              "    </tr>\n",
              "    <tr>\n",
              "      <th>MntGoldProds</th>\n",
              "      <td>amnt_spent_total</td>\n",
              "      <td>total_num_purchases</td>\n",
              "      <td>NumCatalogPurchases</td>\n",
              "      <td>MntFishProducts</td>\n",
              "      <td>NumWebPurchases</td>\n",
              "      <td>0.524262</td>\n",
              "      <td>0.493314</td>\n",
              "      <td>0.437697</td>\n",
              "      <td>0.422875</td>\n",
              "      <td>0.421836</td>\n",
              "    </tr>\n",
              "    <tr>\n",
              "      <th>NumDealsPurchases</th>\n",
              "      <td>num_minors</td>\n",
              "      <td>Teenhome</td>\n",
              "      <td>total_num_purchases</td>\n",
              "      <td>NumWebVisitsMonth</td>\n",
              "      <td>NumWebPurchases</td>\n",
              "      <td>0.439684</td>\n",
              "      <td>0.387741</td>\n",
              "      <td>0.362334</td>\n",
              "      <td>0.347633</td>\n",
              "      <td>0.234185</td>\n",
              "    </tr>\n",
              "    <tr>\n",
              "      <th>NumWebPurchases</th>\n",
              "      <td>total_num_purchases</td>\n",
              "      <td>MntWines</td>\n",
              "      <td>amnt_spent_total</td>\n",
              "      <td>NumStorePurchases</td>\n",
              "      <td>MntGoldProds</td>\n",
              "      <td>0.777831</td>\n",
              "      <td>0.542265</td>\n",
              "      <td>0.519837</td>\n",
              "      <td>0.502713</td>\n",
              "      <td>0.421836</td>\n",
              "    </tr>\n",
              "    <tr>\n",
              "      <th>NumCatalogPurchases</th>\n",
              "      <td>amnt_spent_total</td>\n",
              "      <td>total_num_purchases</td>\n",
              "      <td>MntMeatProducts</td>\n",
              "      <td>MntWines</td>\n",
              "      <td>Income</td>\n",
              "      <td>0.778577</td>\n",
              "      <td>0.735198</td>\n",
              "      <td>0.723827</td>\n",
              "      <td>0.635226</td>\n",
              "      <td>0.586725</td>\n",
              "    </tr>\n",
              "    <tr>\n",
              "      <th>NumStorePurchases</th>\n",
              "      <td>total_num_purchases</td>\n",
              "      <td>amnt_spent_total</td>\n",
              "      <td>MntWines</td>\n",
              "      <td>Income</td>\n",
              "      <td>NumCatalogPurchases</td>\n",
              "      <td>0.820259</td>\n",
              "      <td>0.674669</td>\n",
              "      <td>0.642100</td>\n",
              "      <td>0.526489</td>\n",
              "      <td>0.518738</td>\n",
              "    </tr>\n",
              "    <tr>\n",
              "      <th>NumWebVisitsMonth</th>\n",
              "      <td>Kidhome</td>\n",
              "      <td>num_minors</td>\n",
              "      <td>NumDealsPurchases</td>\n",
              "      <td>Teenhome</td>\n",
              "      <td>Year_Birth</td>\n",
              "      <td>0.447846</td>\n",
              "      <td>0.418419</td>\n",
              "      <td>0.347633</td>\n",
              "      <td>0.134884</td>\n",
              "      <td>0.121139</td>\n",
              "    </tr>\n",
              "    <tr>\n",
              "      <th>AcceptedCmp3</th>\n",
              "      <td>accept_campaign_total</td>\n",
              "      <td>Response</td>\n",
              "      <td>MntGoldProds</td>\n",
              "      <td>NumCatalogPurchases</td>\n",
              "      <td>AcceptedCmp1</td>\n",
              "      <td>0.429426</td>\n",
              "      <td>0.254258</td>\n",
              "      <td>0.123091</td>\n",
              "      <td>0.104730</td>\n",
              "      <td>0.094751</td>\n",
              "    </tr>\n",
              "    <tr>\n",
              "      <th>AcceptedCmp4</th>\n",
              "      <td>accept_campaign_total</td>\n",
              "      <td>MntWines</td>\n",
              "      <td>AcceptedCmp5</td>\n",
              "      <td>AcceptedCmp2</td>\n",
              "      <td>amnt_spent_total</td>\n",
              "      <td>0.614632</td>\n",
              "      <td>0.373286</td>\n",
              "      <td>0.306526</td>\n",
              "      <td>0.292210</td>\n",
              "      <td>0.253290</td>\n",
              "    </tr>\n",
              "    <tr>\n",
              "      <th>AcceptedCmp5</th>\n",
              "      <td>accept_campaign_total</td>\n",
              "      <td>MntWines</td>\n",
              "      <td>amnt_spent_total</td>\n",
              "      <td>AcceptedCmp1</td>\n",
              "      <td>MntMeatProducts</td>\n",
              "      <td>0.715771</td>\n",
              "      <td>0.472613</td>\n",
              "      <td>0.470058</td>\n",
              "      <td>0.403078</td>\n",
              "      <td>0.373769</td>\n",
              "    </tr>\n",
              "    <tr>\n",
              "      <th>AcceptedCmp1</th>\n",
              "      <td>accept_campaign_total</td>\n",
              "      <td>AcceptedCmp5</td>\n",
              "      <td>amnt_spent_total</td>\n",
              "      <td>MntWines</td>\n",
              "      <td>MntMeatProducts</td>\n",
              "      <td>0.679322</td>\n",
              "      <td>0.403078</td>\n",
              "      <td>0.381523</td>\n",
              "      <td>0.354133</td>\n",
              "      <td>0.309761</td>\n",
              "    </tr>\n",
              "    <tr>\n",
              "      <th>AcceptedCmp2</th>\n",
              "      <td>accept_campaign_total</td>\n",
              "      <td>AcceptedCmp4</td>\n",
              "      <td>AcceptedCmp5</td>\n",
              "      <td>MntWines</td>\n",
              "      <td>AcceptedCmp1</td>\n",
              "      <td>0.458480</td>\n",
              "      <td>0.292210</td>\n",
              "      <td>0.221533</td>\n",
              "      <td>0.205907</td>\n",
              "      <td>0.175315</td>\n",
              "    </tr>\n",
              "    <tr>\n",
              "      <th>Response</th>\n",
              "      <td>accept_campaign_total</td>\n",
              "      <td>AcceptedCmp5</td>\n",
              "      <td>AcceptedCmp1</td>\n",
              "      <td>amnt_spent_total</td>\n",
              "      <td>AcceptedCmp3</td>\n",
              "      <td>0.426035</td>\n",
              "      <td>0.326634</td>\n",
              "      <td>0.293982</td>\n",
              "      <td>0.265298</td>\n",
              "      <td>0.254258</td>\n",
              "    </tr>\n",
              "    <tr>\n",
              "      <th>Complain</th>\n",
              "      <td>Kidhome</td>\n",
              "      <td>ID</td>\n",
              "      <td>num_minors</td>\n",
              "      <td>NumWebVisitsMonth</td>\n",
              "      <td>Recency</td>\n",
              "      <td>0.040207</td>\n",
              "      <td>0.033883</td>\n",
              "      <td>0.031066</td>\n",
              "      <td>0.019769</td>\n",
              "      <td>0.013231</td>\n",
              "    </tr>\n",
              "    <tr>\n",
              "      <th>yr_join</th>\n",
              "      <td>Kidhome</td>\n",
              "      <td>AcceptedCmp1</td>\n",
              "      <td>num_minors</td>\n",
              "      <td>Income</td>\n",
              "      <td>accept_campaign_total</td>\n",
              "      <td>0.053339</td>\n",
              "      <td>0.037101</td>\n",
              "      <td>0.032215</td>\n",
              "      <td>0.022366</td>\n",
              "      <td>0.021390</td>\n",
              "    </tr>\n",
              "    <tr>\n",
              "      <th>mth_join</th>\n",
              "      <td>NumWebVisitsMonth</td>\n",
              "      <td>MntWines</td>\n",
              "      <td>amnt_spent_total</td>\n",
              "      <td>Response</td>\n",
              "      <td>average_order_volume</td>\n",
              "      <td>0.066227</td>\n",
              "      <td>0.046139</td>\n",
              "      <td>0.037400</td>\n",
              "      <td>0.032677</td>\n",
              "      <td>0.032261</td>\n",
              "    </tr>\n",
              "    <tr>\n",
              "      <th>num_minors</th>\n",
              "      <td>Teenhome</td>\n",
              "      <td>Kidhome</td>\n",
              "      <td>NumDealsPurchases</td>\n",
              "      <td>NumWebVisitsMonth</td>\n",
              "      <td>yr_join</td>\n",
              "      <td>0.698433</td>\n",
              "      <td>0.689971</td>\n",
              "      <td>0.439684</td>\n",
              "      <td>0.418419</td>\n",
              "      <td>0.032215</td>\n",
              "    </tr>\n",
              "    <tr>\n",
              "      <th>amnt_spent_total</th>\n",
              "      <td>MntWines</td>\n",
              "      <td>MntMeatProducts</td>\n",
              "      <td>NumCatalogPurchases</td>\n",
              "      <td>total_num_purchases</td>\n",
              "      <td>NumStorePurchases</td>\n",
              "      <td>0.891839</td>\n",
              "      <td>0.842965</td>\n",
              "      <td>0.778577</td>\n",
              "      <td>0.753903</td>\n",
              "      <td>0.674669</td>\n",
              "    </tr>\n",
              "    <tr>\n",
              "      <th>total_num_purchases</th>\n",
              "      <td>NumStorePurchases</td>\n",
              "      <td>NumWebPurchases</td>\n",
              "      <td>amnt_spent_total</td>\n",
              "      <td>NumCatalogPurchases</td>\n",
              "      <td>MntWines</td>\n",
              "      <td>0.820259</td>\n",
              "      <td>0.777831</td>\n",
              "      <td>0.753903</td>\n",
              "      <td>0.735198</td>\n",
              "      <td>0.712789</td>\n",
              "    </tr>\n",
              "    <tr>\n",
              "      <th>accept_campaign_total</th>\n",
              "      <td>AcceptedCmp5</td>\n",
              "      <td>AcceptedCmp1</td>\n",
              "      <td>AcceptedCmp4</td>\n",
              "      <td>MntWines</td>\n",
              "      <td>amnt_spent_total</td>\n",
              "      <td>0.715771</td>\n",
              "      <td>0.679322</td>\n",
              "      <td>0.614632</td>\n",
              "      <td>0.512358</td>\n",
              "      <td>0.459554</td>\n",
              "    </tr>\n",
              "    <tr>\n",
              "      <th>average_order_volume</th>\n",
              "      <td>amnt_spent_total</td>\n",
              "      <td>MntMeatProducts</td>\n",
              "      <td>MntWines</td>\n",
              "      <td>Income</td>\n",
              "      <td>NumCatalogPurchases</td>\n",
              "      <td>0.617745</td>\n",
              "      <td>0.607036</td>\n",
              "      <td>0.503793</td>\n",
              "      <td>0.401965</td>\n",
              "      <td>0.397890</td>\n",
              "    </tr>\n",
              "  </tbody>\n",
              "</table>\n",
              "</div>\n",
              "      <button class=\"colab-df-convert\" onclick=\"convertToInteractive('df-4350c8b6-6017-418b-9929-6c724b0bda23')\"\n",
              "              title=\"Convert this dataframe to an interactive table.\"\n",
              "              style=\"display:none;\">\n",
              "        \n",
              "  <svg xmlns=\"http://www.w3.org/2000/svg\" height=\"24px\"viewBox=\"0 0 24 24\"\n",
              "       width=\"24px\">\n",
              "    <path d=\"M0 0h24v24H0V0z\" fill=\"none\"/>\n",
              "    <path d=\"M18.56 5.44l.94 2.06.94-2.06 2.06-.94-2.06-.94-.94-2.06-.94 2.06-2.06.94zm-11 1L8.5 8.5l.94-2.06 2.06-.94-2.06-.94L8.5 2.5l-.94 2.06-2.06.94zm10 10l.94 2.06.94-2.06 2.06-.94-2.06-.94-.94-2.06-.94 2.06-2.06.94z\"/><path d=\"M17.41 7.96l-1.37-1.37c-.4-.4-.92-.59-1.43-.59-.52 0-1.04.2-1.43.59L10.3 9.45l-7.72 7.72c-.78.78-.78 2.05 0 2.83L4 21.41c.39.39.9.59 1.41.59.51 0 1.02-.2 1.41-.59l7.78-7.78 2.81-2.81c.8-.78.8-2.07 0-2.86zM5.41 20L4 18.59l7.72-7.72 1.47 1.35L5.41 20z\"/>\n",
              "  </svg>\n",
              "      </button>\n",
              "      \n",
              "  <style>\n",
              "    .colab-df-container {\n",
              "      display:flex;\n",
              "      flex-wrap:wrap;\n",
              "      gap: 12px;\n",
              "    }\n",
              "\n",
              "    .colab-df-convert {\n",
              "      background-color: #E8F0FE;\n",
              "      border: none;\n",
              "      border-radius: 50%;\n",
              "      cursor: pointer;\n",
              "      display: none;\n",
              "      fill: #1967D2;\n",
              "      height: 32px;\n",
              "      padding: 0 0 0 0;\n",
              "      width: 32px;\n",
              "    }\n",
              "\n",
              "    .colab-df-convert:hover {\n",
              "      background-color: #E2EBFA;\n",
              "      box-shadow: 0px 1px 2px rgba(60, 64, 67, 0.3), 0px 1px 3px 1px rgba(60, 64, 67, 0.15);\n",
              "      fill: #174EA6;\n",
              "    }\n",
              "\n",
              "    [theme=dark] .colab-df-convert {\n",
              "      background-color: #3B4455;\n",
              "      fill: #D2E3FC;\n",
              "    }\n",
              "\n",
              "    [theme=dark] .colab-df-convert:hover {\n",
              "      background-color: #434B5C;\n",
              "      box-shadow: 0px 1px 3px 1px rgba(0, 0, 0, 0.15);\n",
              "      filter: drop-shadow(0px 1px 2px rgba(0, 0, 0, 0.3));\n",
              "      fill: #FFFFFF;\n",
              "    }\n",
              "  </style>\n",
              "\n",
              "      <script>\n",
              "        const buttonEl =\n",
              "          document.querySelector('#df-4350c8b6-6017-418b-9929-6c724b0bda23 button.colab-df-convert');\n",
              "        buttonEl.style.display =\n",
              "          google.colab.kernel.accessAllowed ? 'block' : 'none';\n",
              "\n",
              "        async function convertToInteractive(key) {\n",
              "          const element = document.querySelector('#df-4350c8b6-6017-418b-9929-6c724b0bda23');\n",
              "          const dataTable =\n",
              "            await google.colab.kernel.invokeFunction('convertToInteractive',\n",
              "                                                     [key], {});\n",
              "          if (!dataTable) return;\n",
              "\n",
              "          const docLinkHtml = 'Like what you see? Visit the ' +\n",
              "            '<a target=\"_blank\" href=https://colab.research.google.com/notebooks/data_table.ipynb>data table notebook</a>'\n",
              "            + ' to learn more about interactive tables.';\n",
              "          element.innerHTML = '';\n",
              "          dataTable['output_type'] = 'display_data';\n",
              "          await google.colab.output.renderOutput(dataTable, element);\n",
              "          const docLink = document.createElement('div');\n",
              "          docLink.innerHTML = docLinkHtml;\n",
              "          element.appendChild(docLink);\n",
              "        }\n",
              "      </script>\n",
              "    </div>\n",
              "  </div>\n",
              "  "
            ],
            "text/plain": [
              "                                           1  ...     5_Val\n",
              "ID                                  Complain  ...  0.002901\n",
              "Year_Birth                           Kidhome  ...  0.021325\n",
              " Income                     amnt_spent_total  ...  0.563370\n",
              "Kidhome                           num_minors  ...  0.053339\n",
              "Teenhome                          num_minors  ...  0.133163\n",
              "Recency                  NumCatalogPurchases  ...  0.018826\n",
              "MntWines                    amnt_spent_total  ...  0.576789\n",
              "MntFruits                   amnt_spent_total  ...  0.487917\n",
              "MntMeatProducts             amnt_spent_total  ...  0.568402\n",
              "MntFishProducts             amnt_spent_total  ...  0.534478\n",
              "MntSweetProducts            amnt_spent_total  ...  0.490924\n",
              "MntGoldProds                amnt_spent_total  ...  0.421836\n",
              "NumDealsPurchases                 num_minors  ...  0.234185\n",
              "NumWebPurchases          total_num_purchases  ...  0.421836\n",
              "NumCatalogPurchases         amnt_spent_total  ...  0.586725\n",
              "NumStorePurchases        total_num_purchases  ...  0.518738\n",
              "NumWebVisitsMonth                    Kidhome  ...  0.121139\n",
              "AcceptedCmp3           accept_campaign_total  ...  0.094751\n",
              "AcceptedCmp4           accept_campaign_total  ...  0.253290\n",
              "AcceptedCmp5           accept_campaign_total  ...  0.373769\n",
              "AcceptedCmp1           accept_campaign_total  ...  0.309761\n",
              "AcceptedCmp2           accept_campaign_total  ...  0.175315\n",
              "Response               accept_campaign_total  ...  0.254258\n",
              "Complain                             Kidhome  ...  0.013231\n",
              "yr_join                              Kidhome  ...  0.021390\n",
              "mth_join                   NumWebVisitsMonth  ...  0.032261\n",
              "num_minors                          Teenhome  ...  0.032215\n",
              "amnt_spent_total                    MntWines  ...  0.674669\n",
              "total_num_purchases        NumStorePurchases  ...  0.712789\n",
              "accept_campaign_total           AcceptedCmp5  ...  0.459554\n",
              "average_order_volume        amnt_spent_total  ...  0.397890\n",
              "\n",
              "[31 rows x 10 columns]"
            ]
          },
          "metadata": {},
          "execution_count": 56
        }
      ]
    },
    {
      "cell_type": "markdown",
      "source": [
        "### What Factors are Significantly Related to the Number of Store Purchases?"
      ],
      "metadata": {
        "id": "-uARZEdAz9uV"
      }
    },
    {
      "cell_type": "code",
      "source": [
        "# drop ID as everyone has unique ID\n",
        "data_new = data.drop(columns=['ID', 'Dt_Customer'])\n",
        "data_new.replace([np.inf, -np.inf], 0, inplace=True)\n",
        "\n",
        "# One-hot encoding\n",
        "data_new = pd.get_dummies(data_new)\n",
        "\n",
        "X = data_new.drop(columns=['NumStorePurchases']) \n",
        "y = data_new['NumStorePurchases']  \n",
        "\n",
        "X_train, X_test, y_train, y_test = train_test_split(X, y, test_size=0.3) \n",
        "\n",
        "rg = RandomForestRegressor(n_estimators=200, n_jobs=-1)\n",
        "\n",
        "rg.fit(X_train, y_train)\n",
        "\n",
        "y_pred=rg.predict(X_test)\n",
        "\n",
        "print('Mean Absolute Error:', metrics.mean_absolute_error(y_test, y_pred))\n",
        "print('Mean Squared Error:', metrics.mean_squared_error(y_test, y_pred))\n",
        "print('Root Mean Squared Error:', np.sqrt(metrics.mean_squared_error(y_test, y_pred)))"
      ],
      "metadata": {
        "colab": {
          "base_uri": "https://localhost:8080/"
        },
        "id": "8Iopu41ZEdy1",
        "outputId": "668921b5-a8b2-47bd-9256-ee1d496dce56"
      },
      "execution_count": null,
      "outputs": [
        {
          "output_type": "stream",
          "name": "stdout",
          "text": [
            "Mean Absolute Error: 0.6876190476190476\n",
            "Mean Squared Error: 1.2890729910714285\n",
            "Root Mean Squared Error: 1.1353735028929592\n"
          ]
        }
      ]
    },
    {
      "cell_type": "code",
      "source": [
        "#Create arrays from feature importance and feature names\n",
        "feature_importance = np.array(rg.feature_importances_)\n",
        "feature_names = np.array(X_train.columns)\n",
        "\n",
        "#Create a DataFrame using a Dictionary\n",
        "dict_ ={'feature_names':feature_names,'feature_importance':feature_importance}\n",
        "fi_df = pd.DataFrame(dict_)\n",
        "\n",
        "#Sort the DataFrame in order decreasing feature importance\n",
        "fi_df.sort_values(by=['feature_importance'], ascending=False,inplace=True)\n",
        "\n",
        "#Define size of bar plot\n",
        "plt.figure(figsize=(8,8))\n",
        "#Plot Searborn bar chart\n",
        "sn.barplot(x=fi_df['feature_importance'], y=fi_df['feature_names'].iloc[0:10])\n",
        "#Add chart labels\n",
        "plt.title('IMPORTANT FEATURES FOR NumStorePurchases')\n",
        "plt.xlabel('IMPORTANCE SCORE')\n",
        "plt.ylabel('FEATURE NAMES')\n",
        "\n",
        "plt.show()"
      ],
      "metadata": {
        "colab": {
          "base_uri": "https://localhost:8080/",
          "height": 513
        },
        "id": "qPselAPX1ZxS",
        "outputId": "203f995e-a28f-49be-917c-bd084540ffde"
      },
      "execution_count": null,
      "outputs": [
        {
          "output_type": "display_data",
          "data": {
            "image/png": "[encoded data removed]",
            "text/plain": [
              "<Figure size 576x576 with 1 Axes>"
            ]
          },
          "metadata": {
            "needs_background": "light"
          }
        }
      ]
    },
    {
      "cell_type": "markdown",
      "source": [
        "### Comparing the Outcome of the Marketing Campaigns and Investigating the Difference in Performance of the Most Successful Campaign and the Rest with Respect to Location."
      ],
      "metadata": {
        "id": "SobuzT6St0N_"
      }
    },
    {
      "cell_type": "code",
      "source": [
        "data[[\"AcceptedCmp1\", \"AcceptedCmp2\",\"AcceptedCmp3\",\"AcceptedCmp4\",\"AcceptedCmp5\",\"Response\"]].sum().sort_values().plot.barh()\n",
        "plt.title(\"Measuring Campaign Success\")\n",
        "plt.xlabel(\"Offer Accepted\");\n",
        "plt.ylabel(\"Campaign\")\n",
        "plt.show()"
      ],
      "metadata": {
        "colab": {
          "base_uri": "https://localhost:8080/",
          "height": 295
        },
        "id": "sgJ6ECRciGEm",
        "outputId": "046a99c8-01cf-40df-ec0f-22b610f4ca95"
      },
      "execution_count": null,
      "outputs": [
        {
          "output_type": "display_data",
          "data": {
            "image/png": "[encoded data removed]",
            "text/plain": [
              "<Figure size 432x288 with 1 Axes>"
            ]
          },
          "metadata": {
            "needs_background": "light"
          }
        }
      ]
    },
    {
      "cell_type": "code",
      "source": [
        "# create 2 groups that accepted the offers from the last campaign and the campaign 1-5\n",
        "cp_last = data[data.Response > 0]\n",
        "cp_others = data[data.AcceptedCmp2 == 0]"
      ],
      "metadata": {
        "id": "gm5aHHIvoMSZ"
      },
      "execution_count": null,
      "outputs": []
    },
    {
      "cell_type": "code",
      "source": [
        "cp_last_country = pd.DataFrame((cp_last.Country.value_counts()/cp_last.shape[0])*100)\n",
        "cp_last_country.rename(columns={'Country':'Percent'}, inplace=True)\n",
        "cp_last_country['country'] = cp_last_country.index\n",
        "cp_last_country = cp_last_country.sort_values('country')\n",
        "cp_last_country.drop(['country'], axis=1, inplace=True)\n",
        "\n",
        "cp_others_country = pd.DataFrame((cp_others.Country.value_counts()/cp_others.shape[0])*100)\n",
        "cp_others_country.rename(columns={'Country':'Percent'}, inplace=True)\n",
        "cp_others_country['country'] = cp_others_country.index\n",
        "cp_others_country = cp_others_country.sort_values('country')\n",
        "cp_others_country.drop(['country'], axis=1, inplace=True)\n"
      ],
      "metadata": {
        "id": "lQWFpNSkpGL6"
      },
      "execution_count": null,
      "outputs": []
    },
    {
      "cell_type": "code",
      "source": [
        "country_final = cp_last_country-cp_others_country\n",
        "\n",
        "# visualize the differences\n",
        "plt.figure(figsize = (9, 7))\n",
        "country_final.sort_values(by=\"Percent\",inplace = True)\n",
        "country_final['positive'] = country_final[\"Percent\"] >=0\n",
        "country_final[\"Percent\"].plot(kind='barh', color=country_final.positive.map({True: 'navy', False: 'orange'}))\n",
        "plt.title(\"Country Percent Comparison - The last campaign vs Campaign 1-5\")\n",
        "plt.xlabel(\"Difference in %\")\n",
        "plt.ylabel(\"Country\")\n",
        "plt.savefig('Country Percent Comparison - The last campaign vs Campaign 1-5')"
      ],
      "metadata": {
        "colab": {
          "base_uri": "https://localhost:8080/",
          "height": 458
        },
        "id": "fiUJmvyKZMf1",
        "outputId": "68d7b70d-e5ac-4353-ac82-5890c48eb3c5"
      },
      "execution_count": null,
      "outputs": [
        {
          "output_type": "display_data",
          "data": {
            "image/png": "[encoded data removed]",
            "text/plain": [
              "<Figure size 648x504 with 1 Axes>"
            ]
          },
          "metadata": {
            "needs_background": "light"
          }
        }
      ]
    },
    {
      "cell_type": "markdown",
      "source": [
        "### The ’Age Effect’ : How Significantly Related is a Customers Year of Birth to the Amount of Money they Spend on Different Food Items?"
      ],
      "metadata": {
        "id": "LoEWHHUhtnCb"
      }
    },
    {
      "cell_type": "code",
      "source": [
        "\n",
        "data_c = data.copy()\n",
        "\n",
        "older = data_c.loc[(data_c.Year_Birth <= 1970)]\n",
        "older['BirthYear'] = \"Before 1970\"\n",
        "younger = data_c.loc[(data_c.Year_Birth > 1970)]\n",
        "younger['BirthYear'] = \"After 1970\"\n",
        "\n",
        "products = ['MntWines','MntFruits','MntMeatProducts', 'MntFishProducts','MntSweetProducts','MntGoldProds']\n",
        "\n",
        "df = older.append(younger)\n",
        "\n",
        "for i in products:\n",
        "  pval = ttest_ind(older[i], younger[i]).pvalue\n",
        "  print(\"T-test p-value: \", pval, pval < 0.05)\n",
        "  plt.figure(figsize = (4, 5))\n",
        "  plt.title(\"Older vs Younger\")\n",
        "  sn.boxplot(data = df, x = 'BirthYear', y = i)\n",
        "  plt.ylabel(i)\n",
        "  plt.show()\n",
        "\n"
      ],
      "metadata": {
        "colab": {
          "base_uri": "https://localhost:8080/",
          "height": 1000
        },
        "id": "52mpXvIMcuky",
        "outputId": "2866dae4-1c7a-4d3b-cb02-8b70e6295f98"
      },
      "execution_count": null,
      "outputs": [
        {
          "output_type": "stream",
          "name": "stdout",
          "text": [
            "T-test p-value:  1.6989334123026312e-14 True\n"
          ]
        },
        {
          "output_type": "stream",
          "name": "stderr",
          "text": [
            "/usr/local/lib/python3.7/dist-packages/ipykernel_launcher.py:5: SettingWithCopyWarning: \n",
            "A value is trying to be set on a copy of a slice from a DataFrame.\n",
            "Try using .loc[row_indexer,col_indexer] = value instead\n",
            "\n",
            "See the caveats in the documentation: https://pandas.pydata.org/pandas-docs/stable/user_guide/indexing.html#returning-a-view-versus-a-copy\n",
            "  \"\"\"\n",
            "/usr/local/lib/python3.7/dist-packages/ipykernel_launcher.py:7: SettingWithCopyWarning: \n",
            "A value is trying to be set on a copy of a slice from a DataFrame.\n",
            "Try using .loc[row_indexer,col_indexer] = value instead\n",
            "\n",
            "See the caveats in the documentation: https://pandas.pydata.org/pandas-docs/stable/user_guide/indexing.html#returning-a-view-versus-a-copy\n",
            "  import sys\n"
          ]
        },
        {
          "output_type": "display_data",
          "data": {
            "image/png": "[encoded data removed]",
            "text/plain": [
              "<Figure size 288x360 with 1 Axes>"
            ]
          },
          "metadata": {
            "needs_background": "light"
          }
        },
        {
          "output_type": "stream",
          "name": "stdout",
          "text": [
            "T-test p-value:  0.06099448815990552 False\n"
          ]
        },
        {
          "output_type": "display_data",
          "data": {
            "image/png": "[encoded data removed]",
            "text/plain": [
              "<Figure size 288x360 with 1 Axes>"
            ]
          },
          "metadata": {
            "needs_background": "light"
          }
        },
        {
          "output_type": "stream",
          "name": "stdout",
          "text": [
            "T-test p-value:  0.041250743316763414 True\n"
          ]
        },
        {
          "output_type": "display_data",
          "data": {
            "image/png": "[encoded data removed]",
            "text/plain": [
              "<Figure size 288x360 with 1 Axes>"
            ]
          },
          "metadata": {
            "needs_background": "light"
          }
        },
        {
          "output_type": "stream",
          "name": "stdout",
          "text": [
            "T-test p-value:  0.02620372739081801 True\n"
          ]
        },
        {
          "output_type": "display_data",
          "data": {
            "image/png": "[encoded data removed]",
            "text/plain": [
              "<Figure size 288x360 with 1 Axes>"
            ]
          },
          "metadata": {
            "needs_background": "light"
          }
        },
        {
          "output_type": "stream",
          "name": "stdout",
          "text": [
            "T-test p-value:  0.24833700093010183 False\n"
          ]
        },
        {
          "output_type": "display_data",
          "data": {
            "image/png": "[encoded data removed]",
            "text/plain": [
              "<Figure size 288x360 with 1 Axes>"
            ]
          },
          "metadata": {
            "needs_background": "light"
          }
        },
        {
          "output_type": "stream",
          "name": "stdout",
          "text": [
            "T-test p-value:  0.00018201287916041505 True\n"
          ]
        },
        {
          "output_type": "display_data",
          "data": {
            "image/png": "[encoded data removed]",
            "text/plain": [
              "<Figure size 288x360 with 1 Axes>"
            ]
          },
          "metadata": {
            "needs_background": "light"
          }
        }
      ]
    },
    {
      "cell_type": "code",
      "source": [
        ""
      ],
      "metadata": {
        "id": "EGmT96ZfZn4R"
      },
      "execution_count": null,
      "outputs": []
    }
  ]
}